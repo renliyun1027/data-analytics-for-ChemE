{
 "cells": [
  {
   "cell_type": "code",
   "execution_count": 295,
   "metadata": {},
   "outputs": [],
   "source": [
    "import math\n",
    "from numpy import cos\n",
    "import numpy as np\n",
    "import matplotlib.pyplot as plt\n",
    "import random,sys,os\n",
    "import scipy.stats as st\n",
    "import pandas as pd\n",
    "pi=math.pi"
   ]
  },
  {
   "cell_type": "markdown",
   "metadata": {},
   "source": [
    "### Problem 1"
   ]
  },
  {
   "cell_type": "code",
   "execution_count": 2,
   "metadata": {},
   "outputs": [],
   "source": [
    "# use LHS to create x1,x2 with bounds \n",
    "import numpy as np\n",
    "import matplotlib.pyplot as plt\n",
    "from smt.sampling_methods import LHS\n",
    "\n",
    "xlimits = np.array([[-5.0, 10.0], [0.0, 15.0]])\n",
    "sampling = LHS(xlimits=xlimits)"
   ]
  },
  {
   "cell_type": "code",
   "execution_count": 3,
   "metadata": {},
   "outputs": [
    {
     "name": "stdout",
     "output_type": "stream",
     "text": [
      "[124462.32441415278, 127730.22029254214, 128639.2910266363, 128821.08405074262, 128633.65434794227]\n"
     ]
    }
   ],
   "source": [
    "#decide which sampling number to use based on the standard deviation of the y values\n",
    "number=[10,50,500,1000,10000] # compare the standard deviation of the y values by varying the sampling number\n",
    "y_std=[]\n",
    "for i in number:\n",
    "    x = sampling(i)\n",
    "    x1=x[:,0]\n",
    "    x2=x[:,1]\n",
    "    y=10+10*(1-1/8*pi)*cos(x1)+(x2-(5.1/16*pi*pi)*x2**2+(5/pi)*x1-6)**2\n",
    "    y_stdv=np.std(y)\n",
    "    y_std.append(y_stdv)\n",
    "print(y_std)"
   ]
  },
  {
   "cell_type": "code",
   "execution_count": 4,
   "metadata": {},
   "outputs": [
    {
     "name": "stdout",
     "output_type": "stream",
     "text": [
      "(500, 2)\n",
      "(500,)\n",
      "(500,)\n"
     ]
    },
    {
     "data": {
      "image/png": "[encoded data removed]",
      "text/plain": [
       "<Figure size 432x288 with 1 Axes>"
      ]
     },
     "metadata": {
      "needs_background": "light"
     },
     "output_type": "display_data"
    }
   ],
   "source": [
    "#since the standard deviations of are similar for 500,1000,and 10000, \n",
    "#use 500 as the sampling number to reduce calculation time\n",
    "num = 500\n",
    "x = sampling(num)\n",
    "x1=x[:,0]\n",
    "x2=x[:,1]\n",
    "\n",
    "print(x.shape)\n",
    "print(x1.shape)\n",
    "print(x2.shape)\n",
    "\n",
    "plt.plot(x1, x2, \"o\")\n",
    "plt.xlabel(\"x1\")\n",
    "plt.ylabel(\"x2\")\n",
    "plt.show()"
   ]
  },
  {
   "cell_type": "code",
   "execution_count": 5,
   "metadata": {},
   "outputs": [
    {
     "name": "stdout",
     "output_type": "stream",
     "text": [
      "(500, 2) (500,)\n"
     ]
    }
   ],
   "source": [
    "#get y values from x1,x2\n",
    "\n",
    "def bbf(x1,x2):\n",
    "    return 10+10*(1-1/8*pi)*cos(x1)+(x2-(5.1/16*pi*pi)*x2**2+(5/pi)*x1-6)**2\n",
    "y=bbf(x1,x2)\n",
    "print(x.shape,y.shape)"
   ]
  },
  {
   "cell_type": "code",
   "execution_count": 13,
   "metadata": {},
   "outputs": [
    {
     "name": "stdout",
     "output_type": "stream",
     "text": [
      "(335, 2) (165, 2)\n",
      "(335,) (165,)\n",
      "335\n"
     ]
    }
   ],
   "source": [
    "# collect data will be used for fitting and validating\n",
    "from sklearn.model_selection import train_test_split\n",
    "x_train, x_test, y_train, y_test = train_test_split(x, y, test_size=0.33, random_state=42)\n",
    "print(x_train.shape,x_test.shape)\n",
    "print(y_train.shape,y_test.shape)\n",
    "N_train=y_train.size\n",
    "print(N_train)"
   ]
  },
  {
   "cell_type": "markdown",
   "metadata": {},
   "source": [
    "Latin Hyperbube Sampling(LHS) was used for sampling since it is a sampling method generating a quasi-random sampling distribution by optimizing the design using the Enhanced Stochastic Evolutionary algorithm (ESE). Standard deviation of the y values is used as the criteria to pick the number of points to collect. "
   ]
  },
  {
   "cell_type": "markdown",
   "metadata": {},
   "source": [
    "### Problem 2"
   ]
  },
  {
   "cell_type": "markdown",
   "metadata": {},
   "source": [
    "1st Generalized linear regression with lasso and cross validation "
   ]
  },
  {
   "cell_type": "code",
   "execution_count": 132,
   "metadata": {},
   "outputs": [],
   "source": [
    "#prep data for P2\n",
    "# scale the date from Problem 1\n",
    "mins=np.min(x,axis=0)\n",
    "maxs=np.max(x,axis=0)\n",
    "y_mins=np.min(y)\n",
    "y_maxs=np.max(y)\n",
    "\n",
    "x_s=(x-mins[:])/(maxs[:]-mins[:])\n",
    "y_s=(y-y_mins)/(y_maxs-y_mins)\n",
    "\n",
    "#train test split for scaled data \n",
    "x_train, x_test, y_train, y_test = train_test_split(x_s, y_s, test_size=0.33, random_state=42)"
   ]
  },
  {
   "cell_type": "code",
   "execution_count": 227,
   "metadata": {},
   "outputs": [],
   "source": [
    "from sklearn.model_selection import KFold\n",
    "def GLR_1(x,y):\n",
    "\n",
    "    kf=KFold(n_splits=5,random_state=1,shuffle=True)\n",
    "    \n",
    "    coffs=[]\n",
    "    train_errs=[]\n",
    "    \n",
    "    i=0\n",
    "    for train_index,test_index in kf.split(x,y):\n",
    "        i+=1\n",
    "        x_train,x_test=x[train_index],x[test_index]\n",
    "        y_train,y_test=y[train_index],y[test_index]\n",
    "        \n",
    "        m = ConcreteModel()\n",
    "        \n",
    "        m.s=list(range(len(x_train)))\n",
    "        m.yact=y_train\n",
    "        m.x=x_train\n",
    "     \n",
    "        \n",
    "        m.ypred=Var(m.s,within=NonNegativeReals)\n",
    "        \n",
    "        m.a = Var()\n",
    "        m.b = Var()\n",
    "        m.c = Var()\n",
    "        m.d = Var()\n",
    "        m.e = Var()\n",
    "        m.f = Var()\n",
    "        m.g = Var()\n",
    "\n",
    "        \n",
    "        def con_rule(m,i):\n",
    "            return (m.a+m.b*m.x[:,0][i]+m.c*m.x[:,1][i]+m.d*(m.x[:,0][i]**2)+m.e*(m.x[:,1][i]**4)\n",
    "                    +m.f*cos(m.x[:,0][i])+m.g*(m.x[:,0][i]*m.x[:,1][i]))-m.ypred[i]==0\n",
    "        \n",
    "        m.con = Constraint(m.s, rule=con_rule)\n",
    "                    \n",
    "        def obj_rule(m):\n",
    "            alpha=0.1\n",
    "            return((sum((m.ypred[i]-m.yact[i])**2 for i in m.s)/len(m.s))+alpha*(m.a+m.b+m.c+m.d+m.e+m.f+m.g))\n",
    "       \n",
    "        m.obj=Objective(rule=obj_rule)\n",
    "        \n",
    "        solver=SolverFactory('ipopt')\n",
    "        solver.solve(m)\n",
    "                    \n",
    "        # err\n",
    "        err_train=value(sum((m.yact[i]-m.ypred[i])**2 for i in m.s))\n",
    "        train_errs.append(err_train)\n",
    "        \n",
    "      #  coffs=[]\n",
    "      #  for i in range(8):\n",
    "      #      coff=(value(m.a),value(m.b),value(m.c),value(m.d),value(m.e),value(m.f),value(m.g),value(m.h))\n",
    "      #      coffs.append(coff)\n",
    "        \n",
    "        def surr(x):\n",
    "            return(m.a+m.b*x[:,0]+m.c*x[:,1]+m.d*x[:,0]**2+m.e*x[:,1]**2+m.f*x[:,0]**4+m.g*cos(x[:,0])+m.h*(x[:,0]*x[:,1]))\n",
    "\n",
    "        surr_error=(sum(m.yact[i]-surr(m.x)**2) for i in m.s)\n",
    "        print(train_errs,surr_error)\n",
    "                          \n",
    "    return train_errs,surr_error"
   ]
  },
  {
   "cell_type": "code",
   "execution_count": 228,
   "metadata": {},
   "outputs": [
    {
     "name": "stdout",
     "output_type": "stream",
     "text": [
      "[26296.872125630878] <generator object GLR_1.<locals>.<genexpr> at 0x00000269F26413C0>\n",
      "[26296.872125630878, 25392.54157406207] <generator object GLR_1.<locals>.<genexpr> at 0x00000269F50B2C10>\n",
      "[26296.872125630878, 25392.54157406207, 27540.366193450725] <generator object GLR_1.<locals>.<genexpr> at 0x00000269F292CCF0>\n",
      "[26296.872125630878, 25392.54157406207, 27540.366193450725, 25826.496540475033] <generator object GLR_1.<locals>.<genexpr> at 0x00000269F292CB30>\n",
      "[26296.872125630878, 25392.54157406207, 27540.366193450725, 25826.496540475033, 26102.198416039108] <generator object GLR_1.<locals>.<genexpr> at 0x00000269F292CCF0>\n"
     ]
    }
   ],
   "source": [
    "p2a1_1=GLR_1(x_s,y_s)"
   ]
  },
  {
   "cell_type": "markdown",
   "metadata": {},
   "source": [
    "2nd Genarlized 1st Generalized linear regression with lasso and cross validation"
   ]
  },
  {
   "cell_type": "code",
   "execution_count": 242,
   "metadata": {},
   "outputs": [],
   "source": [
    "from sklearn.model_selection import KFold\n",
    "def GLR_2(x,y):\n",
    "\n",
    "    kf=KFold(n_splits=5,random_state=1,shuffle=True)\n",
    "    \n",
    "    coffs=[]\n",
    "    train_errs=[]\n",
    "    \n",
    "    i=0\n",
    "    for train_index,test_index in kf.split(x,y):\n",
    "        i+=1\n",
    "        x_train,x_test=x[train_index],x[test_index]\n",
    "        y_train,y_test=y[train_index],y[test_index]\n",
    "        \n",
    "        m = ConcreteModel()\n",
    "        \n",
    "        m.s=list(range(len(x_train)))\n",
    "        m.yact=y_train\n",
    "        m.x=x_train\n",
    "     \n",
    "        \n",
    "        m.ypred=Var(m.s,within=NonNegativeReals)\n",
    "        \n",
    "        m.a = Var()\n",
    "        m.b = Var()\n",
    "        m.c = Var()\n",
    "        m.d = Var()\n",
    "        m.e = Var()\n",
    "        m.f = Var()\n",
    "        m.g = Var()\n",
    "        m.h = Var()\n",
    "        m.k = Var()\n",
    "        \n",
    "        def con_rule(m,i):\n",
    "            return (m.a+m.b*m.x[:,0][i]+m.c*m.x[:,1][i]+m.d*(m.x[:,0][i]**2)+m.e*(m.x[:,1][i]**2)\n",
    "                    +m.f*(m.x[:,0][i]**3)+m.g*(m.x[:,0][i]*m.x[:,1][i])+m.h*((m.x[:,0][i]**2)*m.x[:,1][i])\n",
    "                    +m.k*(m.x[:,0][i]*(m.x[:,1][i]**2)))-m.ypred[i]==0\n",
    "        \n",
    "        m.con = Constraint(m.s, rule=con_rule)\n",
    "                    \n",
    "        def obj_rule(m):\n",
    "            alpha=0.1\n",
    "            return(sum((m.ypred[i]-m.yact[i])**2 for i in m.s)/len(m.s))\n",
    "       \n",
    "        m.obj=Objective(rule=obj_rule)\n",
    "        \n",
    "        solver=SolverFactory('ipopt')\n",
    "        solver.solve(m)\n",
    "                    \n",
    "        # err\n",
    "        err_train=value(sum((m.yact[i]-m.ypred[i])**2 for i in m.s))\n",
    "        train_errs.append(err_train)\n",
    "        \n",
    "      #  coffs=[]\n",
    "      #  for i in range(8):\n",
    "      #      coff=(value(m.a),value(m.b),value(m.c),value(m.d),value(m.e),value(m.f),value(m.g),value(m.h))\n",
    "      #      coffs.append(coff)\n",
    "        \n",
    "        def surr(x):\n",
    "            return(m.a+m.b*x[:,0]+m.c*x[:,1]+m.d*x[:,0]**2+m.e*x[:,1]**2+m.f*x[:,0]**4+m.g*cos(x[:,0])+m.h*(x[:,0]*x[:,1]))\n",
    "\n",
    "        surr_error=(sum(m.yact[i]-surr(m.x)**2) for i in m.s)\n",
    "        print(train_errs,surr_error)\n",
    "                          \n",
    "    return train_errs,surr_error"
   ]
  },
  {
   "cell_type": "code",
   "execution_count": 243,
   "metadata": {
    "scrolled": false
   },
   "outputs": [
    {
     "name": "stdout",
     "output_type": "stream",
     "text": [
      "[0.8821593428298521] <generator object GLR_2.<locals>.<genexpr> at 0x00000269F40835F0>\n",
      "[0.8821593428298521, 0.9016447796162695] <generator object GLR_2.<locals>.<genexpr> at 0x00000269F50C14A0>\n",
      "[0.8821593428298521, 0.9016447796162695, 0.8665905694426078] <generator object GLR_2.<locals>.<genexpr> at 0x00000269F40835F0>\n",
      "[0.8821593428298521, 0.9016447796162695, 0.8665905694426078, 0.9181486231080812] <generator object GLR_2.<locals>.<genexpr> at 0x00000269F50C14A0>\n",
      "[0.8821593428298521, 0.9016447796162695, 0.8665905694426078, 0.9181486231080812, 0.8432959849605555] <generator object GLR_2.<locals>.<genexpr> at 0x00000269F24E4C10>\n"
     ]
    }
   ],
   "source": [
    "p2a1_2=GLR_2(x_s,y_s)"
   ]
  },
  {
   "cell_type": "markdown",
   "metadata": {},
   "source": [
    "We can see that both the training error and surrogate model error are smaller when we use the 2nd generalized linear regression fuction. We will use 2nd GLR for the following part. "
   ]
  },
  {
   "cell_type": "markdown",
   "metadata": {},
   "source": [
    "### Problem2 (b）refit the 2nd GLP to get the optimial parameters "
   ]
  },
  {
   "cell_type": "code",
   "execution_count": 260,
   "metadata": {},
   "outputs": [
    {
     "name": "stdout",
     "output_type": "stream",
     "text": [
      "a : Size=1, Index=None\n",
      "    Key  : Lower : Value               : Upper : Fixed : Stale : Domain\n",
      "    None :  None : 0.10558777841376633 :  None : False : False :  Reals\n",
      "b : Size=1, Index=None\n",
      "    Key  : Lower : Value               : Upper : Fixed : Stale : Domain\n",
      "    None :  None : 0.04104577482476994 :  None : False : False :  Reals\n",
      "c : Size=1, Index=None\n",
      "    Key  : Lower : Value               : Upper : Fixed : Stale : Domain\n",
      "    None :  None : -0.8309440317966522 :  None : False : False :  Reals\n",
      "e : Size=1, Index=None\n",
      "    Key  : Lower : Value              : Upper : Fixed : Stale : Domain\n",
      "    None :  None : 1.6354480344628344 :  None : False : False :  Reals\n",
      "f : Size=1, Index=None\n",
      "    Key  : Lower : Value                 : Upper : Fixed : Stale : Domain\n",
      "    None :  None : -0.012122953263856687 :  None : False : False :  Reals\n",
      "g : Size=1, Index=None\n",
      "    Key  : Lower : Value                : Upper : Fixed : Stale : Domain\n",
      "    None :  None : -0.14413733510942384 :  None : False : False :  Reals\n",
      "h : Size=1, Index=None\n",
      "    Key  : Lower : Value               : Upper : Fixed : Stale : Domain\n",
      "    None :  None : 0.18942624509568096 :  None : False : False :  Reals\n",
      "k : Size=1, Index=None\n",
      "    Key  : Lower : Value                : Upper : Fixed : Stale : Domain\n",
      "    None :  None : -0.11069800688014168 :  None : False : False :  Reals\n",
      "obj : Size=1, Index=None, Active=True\n",
      "    Key  : Active : Sense    : Expression\n",
      "    None :   True : minimize : (ypred[0] - 0.06737920536691165)**2 + (ypred[1] - 0.4386956947660867)**2 + (ypred[2] - 0.00159258539340798)**2 + (ypred[3] - 0.059401253471106176)**2 + (ypred[4] - 0.9648845865335556)**2 + (ypred[5] - 0.0007828951563000609)**2 + (ypred[6] - 0.8959521841331677)**2 + (ypred[7] - 0.5492873540234566)**2 + (ypred[8] - 0.20360251241063668)**2 + (ypred[9] - 0.03455966821064339)**2 + (ypred[10] - 0.45483668852977727)**2 + (ypred[11] - 0.016237916090558444)**2 + (ypred[12] - 9.710418505278918e-05)**2 + (ypred[13] - 0.9782845550078229)**2 + (ypred[14] - 0.287612380997335)**2 + (ypred[15] - 0.001464362510762593)**2 + (ypred[16] - 0.0005313501357812203)**2 + (ypred[17] - 0.1837289647920707)**2 + (ypred[18] - 0.6037213417160397)**2 + (ypred[19] - 0.06821589969358688)**2 + (ypred[20] - 0.26954791243629167)**2 + (ypred[21] - 0.16474141031186074)**2 + (ypred[22] - 0.12026555423285192)**2 + (ypred[23] - 0.5731796368409732)**2 + (ypred[24] - 0.0004318174661680092)**2 + (ypred[25] - 0.10883758168352158)**2 + (ypred[26] - 0.2118298011418806)**2 + (ypred[27] - 0.9857488314995315)**2 + (ypred[28] - 0.22987661498530165)**2 + (ypred[29] - 5.5762798729961795e-05)**2 + (ypred[30] - 0.6127551844550996)**2 + (ypred[31] - 0.04290888366293711)**2 + (ypred[32] - 0.8024913598716121)**2 + (ypred[33] - 0.08529274142507143)**2 + (ypred[34] - 3.331409370756088e-05)**2 + (ypred[35] - 0.6756770283826744)**2 + (ypred[36] - 0.5065381300976725)**2 + (ypred[37] - 0.0007894822723358703)**2 + (ypred[38] - 0.0036943655918499304)**2 + (ypred[39] - 0.16312117399797205)**2 + (ypred[40] - 0.00034969637617401135)**2 + (ypred[41] - 0.005095799075186899)**2 + (ypred[42] - 0.009363089384719504)**2 + (ypred[43] - 0.0004023564228069655)**2 + (ypred[44] - 0.20511657693549598)**2 + (ypred[45] - 0.6207865009918718)**2 + (ypred[46] - 0.0006952366010625706)**2 + (ypred[47] - 0.030317513695145577)**2 + (ypred[48] - 0.0016007889962854271)**2 + (ypred[49] - 0.11298917972120706)**2 + (ypred[50] - 0.1402905156018914)**2 + (ypred[51] - 0.795555345284071)**2 + (ypred[52] - 0.5603644367983998)**2 + (ypred[53] - 0.3588928374289601)**2 + (ypred[54] - 0.3449289969204225)**2 + (ypred[55] - 0.19521027857851878)**2 + (ypred[56] - 0.09391242107627429)**2 + (ypred[57] - 0.007269553988179722)**2 + (ypred[58] - 0.0002458918343364398)**2 + (ypred[59] - 0.002898870031139605)**2 + (ypred[60] - 0.04660725230854035)**2 + (ypred[61] - 0.22063670429088092)**2 + (ypred[62] - 0.0008658060177516187)**2 + (ypred[63] - 0.6465353838573779)**2 + (ypred[64] - 0.01085433818788427)**2 + (ypred[65] - 0.0007742231820240232)**2 + (ypred[66] - 6.509878115169715e-05)**2 + (ypred[67] - 0.054067212701879426)**2 + (ypred[68] - 0.00013082904026959433)**2 + (ypred[69] - 0.018440166586808287)**2 + (ypred[70] - 5.398951593307477e-05)**2 + (ypred[71] - 0.02533009295880241)**2 + (ypred[72] - 0.0003056434017422075)**2 + (ypred[73] - 0.3346130116242388)**2 + (ypred[74] - 0.08476294312288168)**2 + (ypred[75] - 0.0087917001739448)**2 + (ypred[76] - 0.010481738205824537)**2 + (ypred[77] - 0.00026910291128364486)**2 + (ypred[78] - 8.60263543314402e-05)**2 + (ypred[79] - 0.7903925272970732)**2 + (ypred[80] - 0.09547344933065682)**2 + (ypred[81] - 0.8890262747827398)**2 + (ypred[82] - 0.6279871984757536)**2 + (ypred[83] - 0.0194416808422376)**2 + (ypred[84] - 0.0007520922456815272)**2 + (ypred[85] - 0.12368065150815291)**2 + (ypred[86] - 7.542234484396597e-06)**2 + (ypred[87] - 0.5964752836301241)**2 + (ypred[88] - 0.018271836451427985)**2 + (ypred[89] - 0.007792066559366711)**2 + (ypred[90] - 0.001098845224017937)**2 + (ypred[91] - 0.38083709980898267)**2 + (ypred[92] - 0.005054271980190044)**2 + (ypred[93] - 0.44522517403356787)**2 + (ypred[94] - 0.24584857319481285)**2 + (ypred[95] - 2.4039635733036755e-05)**2 + (ypred[96] - 0.13810966349977088)**2 + (ypred[97] - 0.47684839089859715)**2 + (ypred[98] - 0.1855850974203883)**2 + (ypred[99] - 0.8308999902956227)**2 + (ypred[100] - 0.02798793462409497)**2 + (ypred[101] - 0.37979511058287346)**2 + (ypred[102] - 0.10559647048465964)**2 + (ypred[103] - 0.0015615145199432388)**2 + (ypred[104] - 0.0017239248899329038)**2 + (ypred[105] - 0.024918366033374828)**2 + (ypred[106] - 0.0029756207276048366)**2 + (ypred[107] - 0.03421385374180027)**2 + (ypred[108] - 0.00024159125703847355)**2 + (ypred[109] - 0.027921450658068944)**2 + (ypred[110] - 4.7998291833366734e-05)**2 + (ypred[111] - 0.00044394167596087576)**2 + (ypred[112] - 0.000403090620251867)**2 + (ypred[113] - 0.10469328900262372)**2 + (ypred[114] - 0.011076692271489321)**2 + (ypred[115] - 0.39375760682859)**2 + (ypred[116] - 0.0009340335604003661)**2 + (ypred[117] - 0.029974669881045263)**2 + (ypred[118] - 4.988732124900431e-05)**2 + (ypred[119] - 0.0010482513008727389)**2 + (ypred[120] - 0.04396049539978191)**2 + (ypred[121] - 0.01575787962619128)**2 + (ypred[122] - 4.032386627075096e-05)**2 + (ypred[123] - 0.037515229415884005)**2 + (ypred[124] - 0.02566965546145501)**2 + (ypred[125] - 0.004889807940496741)**2 + (ypred[126] - 0.35137029630520417)**2 + (ypred[127] - 0.05384477686046507)**2 + (ypred[128] - 0.7716601413322033)**2 + (ypred[129] - 0.16712564285181067)**2 + (ypred[130] - 0.7030765951641044)**2 + (ypred[131] - 0.0038855163087453907)**2 + (ypred[132] - 0.0108108546786761)**2 + (ypred[133] - 0.00023599021620782372)**2 + (ypred[134] - 0.0015078011313012806)**2 + (ypred[135] - 0.046027574923290834)**2 + (ypred[136] - 0.01789387706882161)**2 + (ypred[137] - 0.0008745827815348061)**2 + (ypred[138] - 0.35673319616158755)**2 + (ypred[139] - 0.09288757578782081)**2 + (ypred[140] - 1.1870902268338912e-05)**2 + (ypred[141] - 0.004302989254600419)**2 + (ypred[142] - 0.00026430019668581176)**2 + (ypred[143] - 0.1582048024729928)**2 + (ypred[144] - 0.007271457026503572)**2 + (ypred[145] - 0.6967474769027698)**2 + (ypred[146] - 0.07376299271609021)**2 + (ypred[147] - 0.027841429416829003)**2 + (ypred[148] - 0.2474949532339799)**2 + (ypred[149] - 0.22976464834544563)**2 + (ypred[150] - 0.11710994097776176)**2 + (ypred[151] - 0.0013574963042189264)**2 + (ypred[152] - 0.1503718814087153)**2 + (ypred[153] - 0.08747113309270182)**2 + (ypred[154] - 0.03744907868867074)**2 + (ypred[155] - 0.001260257966870694)**2 + (ypred[156] - 0.0877286547300078)**2 + (ypred[157] - 0.011510872088979211)**2 + (ypred[158] - 0.019103297873483815)**2 + (ypred[159] - 0.0022868076183240413)**2 + (ypred[160] - 0.3378806615500237)**2 + (ypred[161] - 0.0013598064600789717)**2 + (ypred[162] - 0.09442695640312387)**2 + (ypred[163] - 0.07395327941160197)**2 + (ypred[164] - 2.8895051444014698e-05)**2 + (ypred[165] - 0.002212855054162322)**2 + (ypred[166] - 0.0013031312599862122)**2 + (ypred[167] - 0.04844351952956363)**2 + (ypred[168] - 0.44114450328961524)**2 + (ypred[169] - 0.0021558995450426744)**2 + (ypred[170] - 0.010123105977895367)**2 + (ypred[171] - 0.0770377190487969)**2 + (ypred[172] - 0.4126900673253466)**2 + (ypred[173] - 0.2667774002313384)**2 + (ypred[174] - 0.9420860779821117)**2 + (ypred[175] - 0.0004998296673717912)**2 + (ypred[176] - 0.0632756905927699)**2 + (ypred[177] - 0.0033645193225356725)**2 + (ypred[178] - 0.024565742914945583)**2 + (ypred[179] - 0.8266542031506705)**2 + (ypred[180] - 0.015085407093871833)**2 + (ypred[181] - 0.568716794175873)**2 + (ypred[182] - 0.2645238282620784)**2 + (ypred[183] - 0.02557619590171123)**2 + (ypred[184] - 0.11324111224136507)**2 + (ypred[185] - 0.0008625797274894334)**2 + (ypred[186] - 0.004340346862252197)**2 + (ypred[187] - 0.026390990349418296)**2 + (ypred[188] - 0.14645658397353595)**2 + (ypred[189] - 0.7521891278019894)**2 + (ypred[190] - 0.20356425053714375)**2 + (ypred[191] - 0.8677700254470894)**2 + (ypred[192] - 0.011441157452971617)**2 + (ypred[193] - 1.0)**2 + (ypred[194] - 0.048630092657919614)**2 + (ypred[195] - 0.0003570167378319142)**2 + (ypred[196] - 0.0007429587620448961)**2 + (ypred[197] - 0.26296582819726094)**2 + (ypred[198] - 0.00033228808024370196)**2 + (ypred[199] - 0.0011929581571764043)**2 + (ypred[200] - 0.07115769971915921)**2 + (ypred[201] - 0.0162480952795739)**2 + (ypred[202] - 0.19948025137155045)**2 + (ypred[203] - 0.0006690550062677198)**2 + (ypred[204] - 0.6679505206669272)**2 + (ypred[205] - 0.12824393761116543)**2 + (ypred[206] - 0.6249259718533513)**2 + (ypred[207] - 0.5381161340537545)**2 + (ypred[208] - 0.011837913659246179)**2 + (ypred[209] - 0.26750391110976013)**2 + (ypred[210] - 0.8511506657313577)**2 + (ypred[211] - 0.062236927689396815)**2 + (ypred[212] - 0.17134366220016767)**2 + (ypred[213] - 0.4231457149281128)**2 + (ypred[214] - 0.4855270346318966)**2 + (ypred[215] - 0.00015239188163242165)**2 + (ypred[216] - 0.19453702979832896)**2 + (ypred[217] - 0.2107769595890867)**2 + (ypred[218] - 0.002629584198204517)**2 + (ypred[219] - 0.002465842969061532)**2 + (ypred[220] - 0.9925034030045424)**2 + (ypred[221] - 0.4724972945258719)**2 + (ypred[222] - 0.8132658279123711)**2 + (ypred[223] - 0.2852337613991709)**2 + (ypred[224] - 0.009323136519139201)**2 + (ypred[225] - 2.1359155900455587e-05)**2 + (ypred[226] - 0.10539236675485678)**2 + (ypred[227] - 2.2288759014263608e-05)**2 + (ypred[228] - 0.0040717999382657655)**2 + (ypred[229] - 0.014445080214144083)**2 + (ypred[230] - 0.311616389953664)**2 + (ypred[231] - 0.11799372824583274)**2 + (ypred[232] - 0.16439867985669565)**2 + (ypred[233] - 0.003257485217343225)**2 + (ypred[234] - 0.04704259892556613)**2 + (ypred[235] - 0.3730523565916103)**2 + (ypred[236] - 0.0007422290856527781)**2 + (ypred[237] - 0.016498141972275955)**2 + (ypred[238] - 0.14805962125163338)**2 + (ypred[239] - 0.6183388936142149)**2 + (ypred[240] - 0.6606184570704058)**2 + (ypred[241] - 0.1621327666230312)**2 + (ypred[242] - 0.10988009789085541)**2 + (ypred[243] - 0.06367151046294375)**2 + (ypred[244] - 0.0005961078943777195)**2 + (ypred[245] - 0.26365586592652446)**2 + (ypred[246] - 0.03261559531065207)**2 + (ypred[247] - 2.8415191998864522e-05)**2 + (ypred[248] - 0.14451171550993747)**2 + (ypred[249] - 0.03692644313712511)**2 + (ypred[250] - 0.0005346473280523498)**2 + (ypred[251] - 0.3841592185511807)**2 + (ypred[252] - 0.43893819303507814)**2 + (ypred[253] - 0.042123484210823195)**2 + (ypred[254] - 0.6723494293273548)**2 + (ypred[255] - 0.16299385978710157)**2 + (ypred[256] - 0.00012098349806352973)**2 + (ypred[257] - 0.016731445952710314)**2 + (ypred[258] - 0.6800268687686234)**2 + (ypred[259] - 0.4261891465489837)**2 + (ypred[260] - 0.37431357359056866)**2 + (ypred[261] - 0.29379458429859023)**2 + (ypred[262] - 0.00010671245839989582)**2 + (ypred[263] - 0.00025315210775305613)**2 + (ypred[264] - 0.00011365465433833607)**2 + (ypred[265] - 0.005777840953072334)**2 + ypred[266]**2 + (ypred[267] - 0.26997334884800145)**2 + (ypred[268] - 0.03751999082825906)**2 + (ypred[269] - 0.27938996815062417)**2 + (ypred[270] - 0.00017804974248059803)**2 + (ypred[271] - 0.23332721950551663)**2 + (ypred[272] - 0.757920711727271)**2 + (ypred[273] - 0.13615461984634192)**2 + (ypred[274] - 0.5781978118027402)**2 + (ypred[275] - 0.019025052134925495)**2 + (ypred[276] - 0.6654563206489675)**2 + (ypred[277] - 8.98953238197157e-05)**2 + (ypred[278] - 4.3715320188960155e-05)**2 + (ypred[279] - 0.000111559290210049)**2 + (ypred[280] - 0.8780247002182888)**2 + (ypred[281] - 0.5019280722798718)**2 + (ypred[282] - 0.015133633162994924)**2 + (ypred[283] - 0.0012712985908253872)**2 + (ypred[284] - 0.20482867769293722)**2 + (ypred[285] - 0.0075697947733493745)**2 + (ypred[286] - 0.18118703785807594)**2 + (ypred[287] - 0.09487549700630667)**2 + (ypred[288] - 0.9052033740297296)**2 + (ypred[289] - 0.12691042079055592)**2 + (ypred[290] - 3.533877489950686e-05)**2 + (ypred[291] - 0.6161532585991973)**2 + (ypred[292] - 0.13431105411987715)**2 + (ypred[293] - 0.045828401619133395)**2 + (ypred[294] - 0.0001767738339806695)**2 + (ypred[295] - 0.028504378973266527)**2 + (ypred[296] - 0.0058533871270791855)**2 + (ypred[297] - 0.38069731835325044)**2 + (ypred[298] - 0.08901465880550474)**2 + (ypred[299] - 0.00045793132307579633)**2 + (ypred[300] - 1.8053447151983793e-06)**2 + (ypred[301] - 0.5529383937348553)**2 + (ypred[302] - 0.07378725244685633)**2 + (ypred[303] - 0.7109531882774568)**2 + (ypred[304] - 0.41096126851539866)**2 + (ypred[305] - 0.00012045307785168364)**2 + (ypred[306] - 0.005984170965751809)**2 + (ypred[307] - 0.0015517932200339658)**2 + (ypred[308] - 0.8395721492912307)**2 + (ypred[309] - 0.00012380319030531474)**2 + (ypred[310] - 3.694322142960609e-05)**2 + (ypred[311] - 0.04517479752109458)**2 + (ypred[312] - 0.2083811926892734)**2 + (ypred[313] - 0.7732250200383155)**2 + (ypred[314] - 0.8004708952921785)**2 + (ypred[315] - 0.20153061340099965)**2 + (ypred[316] - 0.7050202613228749)**2 + (ypred[317] - 0.7362721780804671)**2 + (ypred[318] - 0.00015781868003016057)**2 + (ypred[319] - 0.048914858483724434)**2 + (ypred[320] - 0.03234696550029306)**2 + (ypred[321] - 0.4115367254138386)**2 + (ypred[322] - 0.0003023701437531889)**2 + (ypred[323] - 0.49482257993299084)**2 + (ypred[324] - 0.3640984511980758)**2 + (ypred[325] - 0.5685209570649468)**2 + (ypred[326] - 0.7426798119185689)**2 + (ypred[327] - 0.12474734381926675)**2 + (ypred[328] - 0.0498016082129633)**2 + (ypred[329] - 0.0010161132723075692)**2 + (ypred[330] - 0.003763324584064842)**2 + (ypred[331] - 0.006037215954324152)**2 + (ypred[332] - 0.4550882131426953)**2 + (ypred[333] - 0.06517673203607083)**2 + (ypred[334] - 0.00013833391952413105)**2\n"
     ]
    }
   ],
   "source": [
    "m = ConcreteModel()\n",
    "        \n",
    "m.s=list(range(len(x_train)))\n",
    "m.yact=y_train\n",
    "m.x=x_train\n",
    "\n",
    "\n",
    "m.ypred=Var(m.s,within=NonNegativeReals)\n",
    "\n",
    "m.a = Var()\n",
    "m.b = Var()\n",
    "m.c = Var()\n",
    "m.d = Var()\n",
    "m.e = Var()\n",
    "m.f = Var()\n",
    "m.g = Var()\n",
    "m.h = Var()\n",
    "m.k = Var()\n",
    "\n",
    "def con_rule(m,i):\n",
    "    return (m.a+m.b*m.x[:,0][i]+m.c*m.x[:,1][i]+m.d*(m.x[:,0][i]**2)+m.e*(m.x[:,1][i]**2)\n",
    "            +m.f*(m.x[:,0][i]**3)+m.g*(m.x[:,0][i]*m.x[:,1][i])+m.h*((m.x[:,0][i]**2)*m.x[:,1][i])\n",
    "            +m.k*(m.x[:,0][i]*(m.x[:,1][i]**2)))-m.ypred[i]==0\n",
    "\n",
    "def obj_rule(model): \n",
    "    return sum((model.ypred[i]-model.yact[i])**2 for i in model.s)\n",
    "\n",
    "m.con = Constraint(m.s, rule=con_rule)\n",
    "\n",
    "m.obj=Objective(rule=obj_rule)\n",
    "\n",
    "solver=SolverFactory('ipopt')\n",
    "solver.solve(m)\n",
    "\n",
    "m.a.pprint()\n",
    "m.b.pprint()\n",
    "m.c.pprint()\n",
    "m.e.pprint()\n",
    "m.f.pprint()\n",
    "m.g.pprint()\n",
    "m.h.pprint()\n",
    "m.k.pprint()\n",
    "m.obj.pprint()"
   ]
  },
  {
   "cell_type": "markdown",
   "metadata": {},
   "source": [
    "### problem 2(c)"
   ]
  },
  {
   "cell_type": "code",
   "execution_count": 353,
   "metadata": {
    "scrolled": true
   },
   "outputs": [
    {
     "name": "stdout",
     "output_type": "stream",
     "text": [
      "Optimal alpha: 0.001\n"
     ]
    }
   ],
   "source": [
    "from sklearn.model_selection import GridSearchCV\n",
    "from sklearn.linear_model import Lasso\n",
    "\n",
    "alphas = np.array([1e-5, 1e-4, 1e-3, 1e-2, 1e-1, 1])\n",
    "\n",
    "listEstimator = []\n",
    "listScore = []\n",
    "for alpha in alphas:\n",
    "    \n",
    "    x_train, x_test, y_train, y_test = train_test_split(x_s, y_s, test_size = 0.3)\n",
    "     \n",
    "    lasso = Lasso()\n",
    "    param_grid = {'alpha': alphas}\n",
    "    lasso_search = GridSearchCV(lasso, param_grid, cv = 5)\n",
    "    lasso_search.fit(x_train, y_train)\n",
    "    \n",
    "    listEstimator.append(lasso_search.best_estimator_)\n",
    "    \n",
    "    score = lasso_search.best_estimator_.score(x_test, y_test)\n",
    "    listScore.append(score)\n",
    "    \n",
    "maxIndex = listScore.index(max(listScore))\n",
    "optAlpha = listEstimator[maxIndex].alpha\n",
    "\n",
    "\n",
    "print('Optimal alpha: {}'.format(optAlpha))\n"
   ]
  },
  {
   "cell_type": "code",
   "execution_count": 356,
   "metadata": {},
   "outputs": [
    {
     "name": "stdout",
     "output_type": "stream",
     "text": [
      "a : Size=1, Index=None\n",
      "    Key  : Lower : Value              : Upper : Fixed : Stale : Domain\n",
      "    None :  None : 0.1133046078330596 :  None : False : False :  Reals\n",
      "b : Size=1, Index=None\n",
      "    Key  : Lower : Value                  : Upper : Fixed : Stale : Domain\n",
      "    None :  None : -0.0017836734246640378 :  None : False : False :  Reals\n",
      "c : Size=1, Index=None\n",
      "    Key  : Lower : Value               : Upper : Fixed : Stale : Domain\n",
      "    None :  None : -0.8685253964124448 :  None : False : False :  Reals\n",
      "e : Size=1, Index=None\n",
      "    Key  : Lower : Value             : Upper : Fixed : Stale : Domain\n",
      "    None :  None : 1.660932382264804 :  None : False : False :  Reals\n",
      "f : Size=1, Index=None\n",
      "    Key  : Lower : Value                 : Upper : Fixed : Stale : Domain\n",
      "    None :  None : -0.005395841157457647 :  None : False : False :  Reals\n",
      "g : Size=1, Index=None\n",
      "    Key  : Lower : Value               : Upper : Fixed : Stale : Domain\n",
      "    None :  None : 0.06461604858008668 :  None : False : False :  Reals\n",
      "h : Size=1, Index=None\n",
      "    Key  : Lower : Value                : Upper : Fixed : Stale : Domain\n",
      "    None :  None : 0.061614677248232726 :  None : False : False :  Reals\n",
      "k : Size=1, Index=None\n",
      "    Key  : Lower : Value                : Upper : Fixed : Stale : Domain\n",
      "    None :  None : -0.21639384720687818 :  None : False : False :  Reals\n",
      "obj : Size=1, Index=None, Active=True\n",
      "    Key  : Active : Sense    : Expression\n",
      "    None :   True : minimize : ((ypred[0] - 4.988732124900431e-05)**2 + (ypred[1] - 0.1621327666230312)**2 + (ypred[2] - 0.016237916090558444)**2 + (ypred[3] - 0.00013833391952413105)**2 + (ypred[4] - 0.43893819303507814)**2 + (ypred[5] - 0.19948025137155045)**2 + (ypred[6] - 0.09442695640312387)**2 + (ypred[7] - 0.7881539571926979)**2 + (ypred[8] - 0.4855270346318966)**2 + (ypred[9] - 4.032386627075096e-05)**2 + (ypred[10] - 0.12824393761116543)**2 + (ypred[11] - 0.02798793462409497)**2 + (ypred[12] - 0.25745805528716964)**2 + (ypred[13] - 0.01386557661141746)**2 + (ypred[14] - 0.26750391110976013)**2 + (ypred[15] - 0.20482867769293722)**2 + (ypred[16] - 0.02234286243365114)**2 + (ypred[17] - 0.007269553988179722)**2 + (ypred[18] - 0.11298917972120706)**2 + (ypred[19] - 0.1402905156018914)**2 + (ypred[20] - 0.2951988409600111)**2 + (ypred[21] - 0.5964752836301241)**2 + (ypred[22] - 0.5529383937348553)**2 + (ypred[23] - 0.0004318174661680092)**2 + (ypred[24] - 0.00012098349806352973)**2 + (ypred[25] - 0.0498016082129633)**2 + (ypred[26] - 0.04517479752109458)**2 + (ypred[27] - 0.0010161132723075692)**2 + (ypred[28] - 0.4952034354232346)**2 + (ypred[29] - 0.6679505206669272)**2 + (ypred[30] - 0.8511506657313577)**2 + (ypred[31] - 0.00159258539340798)**2 + (ypred[32] - 0.16474141031186074)**2 + (ypred[33] - 0.011964141905729064)**2 + (ypred[34] - 0.09547344933065682)**2 + (ypred[35] - 0.0006990647776374875)**2 + (ypred[36] - 0.027921450658068944)**2 + (ypred[37] - 0.10559647048465964)**2 + (ypred[38] - 0.07115769971915921)**2 + (ypred[39] - 0.013260989778342867)**2 + (ypred[40] - 0.5065381300976725)**2 + (ypred[41] - 0.8090450552305004)**2 + (ypred[42] - 0.16299385978710157)**2 + (ypred[43] - 0.11799372824583274)**2 + (ypred[44] - 0.00025315210775305613)**2 + (ypred[45] - 0.005054271980190044)**2 + (ypred[46] - 0.13615461984634192)**2 + (ypred[47] - 0.048914858483724434)**2 + (ypred[48] - 0.00036906687185633233)**2 + (ypred[49] - 0.7392441677455741)**2 + (ypred[50] - 0.008508741475075842)**2 + (ypred[51] - 3.433183561354622e-05)**2 + (ypred[52] - 0.046027574923290834)**2 + (ypred[53] - 0.0058533871270791855)**2 + (ypred[54] - 0.46325040612202306)**2 + (ypred[55] - 0.24114696632062954)**2 + (ypred[56] - 0.6723494293273548)**2 + (ypred[57] - 0.0007828951563000609)**2 + (ypred[58] - 0.0003570167378319142)**2 + (ypred[59] - 0.029974669881045263)**2 + (ypred[60] - 0.001464362510762593)**2 + (ypred[61] - 0.8959521841331677)**2 + (ypred[62] - 0.6183388936142149)**2 + (ypred[63] - 0.1503718814087153)**2 + (ypred[64] - 0.0017239248899329038)**2 + (ypred[65] - 0.2474949532339799)**2 + (ypred[66] - 0.11651299628221513)**2 + (ypred[67] - 0.0006690550062677198)**2 + (ypred[68] - 0.0877286547300078)**2 + (ypred[69] - 0.49817620055534234)**2 + (ypred[70] - 0.10539236675485678)**2 + (ypred[71] - 0.000403090620251867)**2 + (ypred[72] - 0.564826897368232)**2 + (ypred[73] - 0.22063670429088092)**2 + (ypred[74] - 0.0007894822723358703)**2 + (ypred[75] - 0.009363089384719504)**2 + (ypred[76] - 2.2288759014263608e-05)**2 + (ypred[77] - 3.331409370756088e-05)**2 + (ypred[78] - 2.509292841700618e-05)**2 + (ypred[79] - 0.07395327941160197)**2 + (ypred[80] - 0.017444927179113848)**2 + (ypred[81] - 0.13431105411987715)**2 + (ypred[82] - 0.0003056434017422075)**2 + (ypred[83] - 0.018271836451427985)**2 + (ypred[84] - 0.00012380319030531474)**2 + (ypred[85] - 0.2852337613991709)**2 + (ypred[86] - 0.0005961078943777195)**2 + (ypred[87] - 0.0029756207276048366)**2 + (ypred[88] - 0.007792066559366711)**2 + (ypred[89] - 0.0004023564228069655)**2 + (ypred[90] - 0.0005313501357812203)**2 + (ypred[91] - 0.13810966349977088)**2 + (ypred[92] - 0.00019390722858357421)**2 + (ypred[93] - 0.5492873540234566)**2 + (ypred[94] - 0.44114450328961524)**2 + (ypred[95] - 0.045828401619133395)**2 + (ypred[96] - 0.026390990349418296)**2 + (ypred[97] - 0.003589691406211862)**2 + (ypred[98] - 0.0013165137725149937)**2 + (ypred[99] - 0.9782845550078229)**2 + (ypred[100] - 0.014572205885794982)**2 + (ypred[101] - 0.889662639970804)**2 + (ypred[102] - 0.019744649821082812)**2 + (ypred[103] - 0.03485875864743985)**2 + (ypred[104] - 0.024918366033374828)**2 + (ypred[105] - 0.000111559290210049)**2 + (ypred[106] - 0.4261891465489837)**2 + (ypred[107] - 0.5128745426888595)**2 + (ypred[108] - 0.6249259718533513)**2 + (ypred[109] - 0.019103297873483815)**2 + (ypred[110] - 0.04006606845656117)**2 + (ypred[111] - 0.002212855054162322)**2 + (ypred[112] - 0.20153061340099965)**2 + (ypred[113] - 5.8328634375988e-05)**2 + (ypred[114] - 0.035280739896564536)**2 + (ypred[115] - 0.9857488314995315)**2 + (ypred[116] - 0.048630092657919614)**2 + (ypred[117] - 0.7426798119185689)**2 + (ypred[118] - 0.0016007889962854271)**2 + (ypred[119] - 0.3751431506097565)**2 + (ypred[120] - 0.9420860779821117)**2 + (ypred[121] - 0.08476294312288168)**2 + (ypred[122] - 0.00015239188163242165)**2 + (ypred[123] - 0.26954791243629167)**2 + (ypred[124] - 0.7050202613228749)**2 + (ypred[125] - 0.12368065150815291)**2 + (ypred[126] - 0.5381161340537545)**2 + (ypred[127] - 0.4550882131426953)**2 + (ypred[128] - 0.07899958979921184)**2 + (ypred[129] - 0.0162480952795739)**2 + (ypred[130] - 0.28228257563585907)**2 + (ypred[131] - 0.00011365465433833607)**2 + (ypred[132] - 0.02557619590171123)**2 + (ypred[133] - 0.05258067327113583)**2 + (ypred[134] - 0.0108108546786761)**2 + (ypred[135] - 0.44522517403356787)**2 + (ypred[136] - 0.4972405522141264)**2 + (ypred[137] - 0.0008658060177516187)**2 + (ypred[138] - 0.0036943655918499304)**2 + (ypred[139] - 0.5781978118027402)**2 + (ypred[140] - 0.009323136519139201)**2 + (ypred[141] - 0.00045793132307579633)**2 + (ypred[142] - 0.004340346862252197)**2 + (ypred[143] - 0.002465842969061532)**2 + (ypred[144] - 0.0007520922456815272)**2 + (ypred[145] - 0.04290888366293711)**2 + (ypred[146] - 0.23869885180006006)**2 + (ypred[147] - 3.765841707864498e-05)**2 + (ypred[148] - 0.037515229415884005)**2 + (ypred[149] - 0.4115367254138386)**2 + (ypred[150] - 0.14451171550993747)**2 + (ypred[151] - 0.054067212701879426)**2 + (ypred[152] - 0.10988009789085541)**2 + (ypred[153] - 0.08747113309270182)**2 + (ypred[154] - 0.44633599913152)**2 + (ypred[155] - 0.005006650144017193)**2 + (ypred[156] - 2.8895051444014698e-05)**2 + (ypred[157] - 0.568716794175873)**2 + (ypred[158] - 3.694322142960609e-05)**2 + (ypred[159] - 0.38069731835325044)**2 + (ypred[160] - 0.005984170965751809)**2 + (ypred[161] - 0.001098845224017937)**2 + (ypred[162] - 0.003060077650641186)**2 + (ypred[163] - 0.41096126851539866)**2 + (ypred[164] - 5.5762798729961795e-05)**2 + (ypred[165] - 0.0007742231820240232)**2 + (ypred[166] - 0.00026430019668581176)**2 + (ypred[167] - 0.01085433818788427)**2 + (ypred[168] - 0.1324033221719393)**2 + (ypred[169] - 0.05540496396098786)**2 + (ypred[170] - 0.39375760682859)**2 + (ypred[171] - 5.398951593307477e-05)**2 + (ypred[172] - 1.8053447151983793e-06)**2 + (ypred[173] - 0.3346130116242388)**2 + (ypred[174] - 0.19453702979832896)**2 + (ypred[175] - 0.004302989254600419)**2 + (ypred[176] - 0.00010671245839989582)**2 + (ypred[177] - 0.5772423413934216)**2 + (ypred[178] - 0.023209604025342043)**2 + (ypred[179] - 0.062288688502680246)**2 + (ypred[180] - 0.00026910291128364486)**2 + (ypred[181] - 0.4138810640797233)**2 + (ypred[182] - 0.028504378973266527)**2 + (ypred[183] - 0.23332721950551663)**2 + (ypred[184] - 0.06517673203607083)**2 + (ypred[185] - 0.02533009295880241)**2 + (ypred[186] - 0.004952870316102597)**2 + (ypred[187] - 0.6161532585991973)**2 + (ypred[188] - 0.11045679841608788)**2 + (ypred[189] - 0.35884278860871055)**2 + (ypred[190] - 0.014779115291994856)**2 + (ypred[191] - 0.00012045307785168364)**2 + (ypred[192] - 0.26365586592652446)**2 + (ypred[193] - 8.98953238197157e-05)**2 + (ypred[194] - 2.4039635733036755e-05)**2 + (ypred[195] - 0.53891151433102)**2 + (ypred[196] - 0.08786975224114588)**2 + (ypred[197] - 0.0015517932200339658)**2 + (ypred[198] - 0.061571129091085884)**2 + (ypred[199] - 0.027841429416829003)**2 + (ypred[200] - 0.0002001684272103787)**2 + (ypred[201] - 0.0005511076729819591)**2 + (ypred[202] - 0.17134366220016767)**2 + (ypred[203] - 0.8930526937028597)**2 + (ypred[204] - 0.003763324584064842)**2 + (ypred[205] - 0.4231457149281128)**2 + (ypred[206] - 0.08949368429537621)**2 + (ypred[207] - 0.0022161307612318473)**2 + (ypred[208] - 0.0004998296673717912)**2 + (ypred[209] - 0.29803031005132985)**2 + (ypred[210] - 0.24911500731752656)**2 + (ypred[211] - 0.35137029630520417)**2 + (ypred[212] - 0.06789270378713337)**2 + (ypred[213] - 0.18216419647062443)**2 + (ypred[214] - 0.9971031264932061)**2 + (ypred[215] - 0.3730523565916103)**2 + (ypred[216] - 0.6779914795943263)**2 + (ypred[217] - 0.5685209570649468)**2 + (ypred[218] - 0.12026555423285192)**2 + (ypred[219] - 0.0009340335604003661)**2 + (ypred[220] - 0.037878807571878524)**2 + (ypred[221] - 0.1632736716871415)**2 + (ypred[222] - 0.18118703785807594)**2 + (ypred[223] - 0.6279871984757536)**2 + (ypred[224] - 0.11232008382399274)**2 + (ypred[225] - 0.09391242107627429)**2 + (ypred[226] - 0.00033228808024370196)**2 + (ypred[227] - 0.32558363580243055)**2 + (ypred[228] - 0.2081038289181122)**2 + (ypred[229] - 0.0022868076183240413)**2 + (ypred[230] - 0.07378725244685633)**2 + (ypred[231] - 0.0012712985908253872)**2 + (ypred[232] - 0.2667774002313384)**2 + (ypred[233] - 0.2949485130992926)**2 + (ypred[234] - 0.4724972945258719)**2 + (ypred[235] - 0.01786350765384559)**2 + (ypred[236] - 0.6800268687686234)**2 + (ypred[237] - 2.051204257417386e-05)**2 + (ypred[238] - 0.008570147606121759)**2 + (ypred[239] - 0.2118298011418806)**2 + (ypred[240] - 0.8890262747827398)**2 + (ypred[241] - 0.008956472517054703)**2 + (ypred[242] - 0.9052033740297296)**2 + (ypred[243] - 0.01575787962619128)**2 + (ypred[244] - 0.0009590925718064795)**2 + (ypred[245] - 0.0005346473280523498)**2 + (ypred[246] - 0.11324111224136507)**2 + (ypred[247] - 0.030317513695145577)**2 + (ypred[248] - 0.16312117399797205)**2 + (ypred[249] - 0.010368164210568484)**2 + (ypred[250] - 0.2083811926892734)**2 + (ypred[251] - 0.24544989385463192)**2 + (ypred[252] - 0.04844351952956363)**2 + (ypred[253] - 0.0770377190487969)**2 + (ypred[254] - 0.7030765951641044)**2 + (ypred[255] - 0.02956170493963681)**2 + (ypred[256] - 0.062236927689396815)**2 + (ypred[257] - 6.509878115169715e-05)**2 + (ypred[258] - 0.11710994097776176)**2 + (ypred[259] - 0.00533299808389905)**2 + (ypred[260] - 0.015201442291385476)**2 + (ypred[261] - 0.026648440552139302)**2 + (ypred[262] - 0.002898870031139605)**2 + (ypred[263] - 0.0010482513008727389)**2 + (ypred[264] - 0.002231566955254279)**2 + (ypred[265] - 0.010856378501257778)**2 + (ypred[266] - 0.013439133849131249)**2 + (ypred[267] - 0.8024913598716121)**2 + (ypred[268] - 0.6763301247024578)**2 + (ypred[269] - 0.03005997700760428)**2 + (ypred[270] - 0.8677700254470894)**2 + (ypred[271] - 0.33152931873942987)**2 + (ypred[272] - 0.27938996815062417)**2 + (ypred[273] - 0.6167660103527046)**2 + (ypred[274] - 9.416694088533947e-05)**2 + (ypred[275] - 0.29379458429859023)**2 + (ypred[276] - 0.36811925255670497)**2 + (ypred[277] - 0.08398892508281959)**2 + (ypred[278] - 0.5019280722798718)**2 + (ypred[279] - 0.06821589969358688)**2 + (ypred[280] - 0.010481738205824537)**2 + (ypred[281] - 0.0038855163087453907)**2 + (ypred[282] - 0.09136570700115113)**2 + (ypred[283] - 0.019025052134925495)**2 + (ypred[284] - 0.04623511182645094)**2 + (ypred[285] - 0.06156551450527283)**2 + (ypred[286] - 0.03744907868867074)**2 + (ypred[287] - 0.00034969637617401135)**2 + (ypred[288] - 0.3588928374289601)**2 + (ypred[289] - 0.5603644367983998)**2 + (ypred[290] - 0.003779275030491645)**2 + (ypred[291] - 0.322863902562183)**2 + (ypred[292] - 0.7109531882774568)**2 + (ypred[293] - 0.8309323057505066)**2 + (ypred[294] - 0.7903925272970732)**2 + (ypred[295] - 0.0007422290856527781)**2 + (ypred[296] - 0.006037215954324152)**2 + (ypred[297] - 0.0002458918343364398)**2 + (ypred[298] - 0.04110019876465535)**2 + (ypred[299] - 0.4638819235624961)**2 + (ypred[300] - 0.3449289969204225)**2 + (ypred[301] - 0.0004607780433854253)**2 + (ypred[302] - 0.018440166586808287)**2 + (ypred[303] - 0.12381865362939799)**2 + (ypred[304] - 0.0013598064600789717)**2 + (ypred[305] - 0.07376299271609021)**2 + (ypred[306] - 0.05384477686046507)**2 + (ypred[307] - 0.06737920536691165)**2 + (ypred[308] - 0.08583546223804853)**2 + (ypred[309] - 0.0011929581571764043)**2 + (ypred[310] - 0.6207865009918718)**2 + (ypred[311] - 0.6606184570704058)**2 + (ypred[312] - 0.12474734381926675)**2 + (ypred[313] - 0.0033645193225356725)**2 + (ypred[314] - 0.795555345284071)**2 + (ypred[315] - 0.008441808029578843)**2 + (ypred[316] - 0.00047242001728204703)**2 + (ypred[317] - 2.1359155900455587e-05)**2 + (ypred[318] - 0.00013082904026959433)**2 + (ypred[319] - 0.30857428706879453)**2 + (ypred[320] - 0.8266542031506705)**2 + (ypred[321] - 0.0040717999382657655)**2 + (ypred[322] - 0.2107769595890867)**2 + ypred[323]**2 + (ypred[324] - 0.0012135545948797472)**2 + (ypred[325] - 0.14645658397353595)**2 + (ypred[326] - 0.2645238282620784)**2 + (ypred[327] - 0.4162767762911787)**2 + (ypred[328] - 0.6199158947208188)**2 + (ypred[329] - 0.0007429587620448961)**2 + (ypred[330] - 0.8780247002182888)**2 + (ypred[331] - 0.04660725230854035)**2 + (ypred[332] - 0.004889807940496741)**2 + (ypred[333] - 0.26296582819726094)**2 + (ypred[334] - 0.024565742914945583)**2 + (ypred[335] - 0.005845482242506626)**2 + (ypred[336] - 2.8415191998864522e-05)**2 + (ypred[337] - 3.533877489950686e-05)**2 + (ypred[338] - 0.5731796368409732)**2 + (ypred[339] - 0.0005240806958033831)**2 + (ypred[340] - 0.35673319616158755)**2 + (ypred[341] - 0.19049111510358216)**2 + (ypred[342] - 1.1870902268338912e-05)**2 + (ypred[343] - 0.03455966821064339)**2 + (ypred[344] - 0.0029580562151518713)**2 + (ypred[345] - 4.7998291833366734e-05)**2 + (ypred[346] - 0.08433200297804537)**2 + (ypred[347] - 0.9410818499979064)**2 + (ypred[348] - 0.0001854075470721682)**2 + (ypred[349] - 0.08529274142507143)**2)/350\n"
     ]
    }
   ],
   "source": [
    "m = ConcreteModel()\n",
    "\n",
    "m.s=list(range(len(x_train)))\n",
    "m.yact=y_train\n",
    "m.x=x_train\n",
    "\n",
    "\n",
    "m.ypred=Var(m.s,within=NonNegativeReals)\n",
    "\n",
    "m.a = Var()\n",
    "m.b = Var()\n",
    "m.c = Var()\n",
    "m.d = Var()\n",
    "m.e = Var()\n",
    "m.f = Var()\n",
    "m.g = Var()\n",
    "m.h = Var()\n",
    "m.k = Var()\n",
    "\n",
    "def con_rule(m,i):\n",
    "    return (m.a+m.b*m.x[:,0][i]+m.c*m.x[:,1][i]+m.d*(m.x[:,0][i]**2)+m.e*(m.x[:,1][i]**2)\n",
    "            +m.f*(m.x[:,0][i]**3)+m.g*(m.x[:,0][i]*m.x[:,1][i])+m.h*((m.x[:,0][i]**2)*m.x[:,1][i])\n",
    "            +m.k*(m.x[:,0][i]*(m.x[:,1][i]**2)))-m.ypred[i]==0\n",
    "\n",
    "m.con = Constraint(m.s, rule=con_rule)\n",
    "\n",
    "def obj_rule(m):\n",
    "    alpha=0.001\n",
    "    return(sum((m.ypred[i]-m.yact[i])**2 for i in m.s)/len(m.s))\n",
    "\n",
    "m.obj=Objective(rule=obj_rule)\n",
    "\n",
    "solver=SolverFactory('ipopt')\n",
    "solver.solve(m)\n",
    "\n",
    "m.a.pprint()\n",
    "m.b.pprint()\n",
    "m.c.pprint()\n",
    "m.e.pprint()\n",
    "m.f.pprint()\n",
    "m.g.pprint()\n",
    "m.h.pprint()\n",
    "m.k.pprint()\n",
    "m.obj.pprint()\n",
    "                          \n",
    "   "
   ]
  },
  {
   "cell_type": "markdown",
   "metadata": {},
   "source": [
    "### Problem 3"
   ]
  },
  {
   "cell_type": "code",
   "execution_count": 261,
   "metadata": {
    "scrolled": true
   },
   "outputs": [
    {
     "name": "stdout",
     "output_type": "stream",
     "text": [
      "r^2 training = 0.9999999999999999\n",
      "r^2 testing = 0.998128625948059\n",
      "r^2 training = 1.0\n",
      "r^2 testing = 0.9978619724806295\n",
      "r^2 training = 1.0\n",
      "r^2 testing = 0.9989544766877512\n",
      "r^2 training = 1.0\n",
      "r^2 testing = 0.9952844316493028\n",
      "r^2 training = 1.0\n",
      "r^2 testing = 0.9992088740140322\n"
     ]
    }
   ],
   "source": [
    "from sklearn.model_selection import KFold\n",
    "from sklearn.gaussian_process.kernels import RBF\n",
    "from sklearn.gaussian_process import GaussianProcessRegressor\n",
    "kf = KFold(n_splits = 5,shuffle=False)\n",
    "\n",
    "r2_test = []\n",
    "\n",
    "for train_index, test_index in kf.split(x):\n",
    "    x_train, x_test = x[train_index], x[test_index]\n",
    "    y_train, y_test = y[train_index], y[test_index]\n",
    "    \n",
    "  \n",
    "    model_GPR = GaussianProcessRegressor() #create a linear regression model instance\n",
    "    model_GPR.fit(x_train, y_train) #fit the model\n",
    "    r2 = model_GPR.score(x_train, y_train) #get the \"score\", which is equivalent to r^2\n",
    "    print('r^2 training = {}'.format(r2))\n",
    "\n",
    "    yhat_GPR = model_GPR.predict(x_test) #create the model prediction\n",
    "\n",
    "    r2 = model_GPR.score(x_test, y_test) #get the \"score\", which is equivalent to r^2\n",
    "    print('r^2 testing = {}'.format(r2))\n",
    "    r2_test.append(r2)\n",
    "    "
   ]
  },
  {
   "cell_type": "markdown",
   "metadata": {},
   "source": [
    "(a)This is not a good fitting since r^2 for both training and testing are close to 1 meaning it is over fitting. "
   ]
  },
  {
   "cell_type": "code",
   "execution_count": 266,
   "metadata": {},
   "outputs": [
    {
     "data": {
      "text/plain": [
       "GaussianProcessRegressor(kernel=RBF(length_scale=0.1), normalize_y=True)"
      ]
     },
     "execution_count": 266,
     "metadata": {},
     "output_type": "execute_result"
    }
   ],
   "source": [
    "from sklearn.gaussian_process import GaussianProcessRegressor\n",
    "from sklearn.gaussian_process.kernels import RBF\n",
    "kernel=RBF(0.1)\n",
    "model=GaussianProcessRegressor(kernel=kernel,normalize_y=True)\n",
    "model.fit(x_s,y_s)"
   ]
  },
  {
   "cell_type": "code",
   "execution_count": 312,
   "metadata": {},
   "outputs": [
    {
     "name": "stdout",
     "output_type": "stream",
     "text": [
      " final_simplex: (array([[0.96339861, 0.12319149],\n",
      "       [0.96336793, 0.12320003],\n",
      "       [0.96348869, 0.12321562]]), array([-1.27345163e-06, -1.27343910e-06, -1.27343525e-06]))\n",
      "           fun: -1.2734516258439132e-06\n",
      "       message: 'Optimization terminated successfully.'\n",
      "          nfev: 84\n",
      "           nit: 44\n",
      "        status: 0\n",
      "       success: True\n",
      "             x: array([0.96339861, 0.12319149])\n"
     ]
    }
   ],
   "source": [
    "from scipy.optimize import minimize\n",
    "def fitGPM(x):\n",
    "    return model.predict(np.atleast_2d(x))\n",
    "GPM=fitGPM(x_s)\n",
    "\n",
    "x0=x_s[1,:]\n",
    "result=minimize(fitGPM,x0,method='Nelder-Mead')\n",
    "print(result)"
   ]
  },
  {
   "cell_type": "markdown",
   "metadata": {},
   "source": [
    "### (c) \n",
    "\n"
   ]
  },
  {
   "cell_type": "markdown",
   "metadata": {},
   "source": [
    "Problem 2c is better since Problem 3 c only minimizing of scalar function of one or more variables using the Nelder-Mead algorithm."
   ]
  },
  {
   "cell_type": "markdown",
   "metadata": {},
   "source": [
    "### Problem4"
   ]
  },
  {
   "cell_type": "code",
   "execution_count": 39,
   "metadata": {},
   "outputs": [
    {
     "name": "stdout",
     "output_type": "stream",
     "text": [
      "b : Size=1, Index=None\n",
      "    Key  : Lower : Value             : Upper : Fixed : Stale : Domain\n",
      "    None :  None : 30031.75402756791 :  None : False : False :  Reals\n",
      "w : Size=2, Index=w_index\n",
      "    Key : Lower : Value              : Upper : Fixed : Stale : Domain\n",
      "      0 :  None :  74.90817668589827 :  None : False : False :  Reals\n",
      "      1 :  None : -74.90817668589827 :  None : False : False :  Reals\n"
     ]
    }
   ],
   "source": [
    "# find optimal w values\n",
    "model=ConcreteModel()\n",
    "model.d=[0,1]\n",
    "model.c=10086\n",
    "model.ep=0.001\n",
    "\n",
    "model.s=np.arange(0,len(y))#Samples\n",
    "model.xs=x\n",
    "model.yact=y\n",
    "\n",
    "model.zetaplus=Var(model.s,within=NonNegativeReals)\n",
    "model.zetaminus=Var(model.s,within=NonNegativeReals)\n",
    "\n",
    "model.b=Var()\n",
    "model.w=Var(model.d)\n",
    "\n",
    "def con(m,i):\n",
    "    return model.yact[i]-(model.b+sum(model.w[j]+model.xs[i,j] for j in model.d))<= model.ep+model.zetaplus[i]\n",
    "model.con=Constraint(model.s,rule=con)\n",
    "\n",
    "def con1(m,i):\n",
    "    return (model.b+sum(model.w[j]+model.xs[i,j] for j in model.d)) - model.yact[i]<=model.ep+model.zetaminus[i]\n",
    "model.con1=Constraint(model.s,rule=con1)\n",
    "\n",
    "def obj_rule(m):\n",
    "    return 0.5*sum(model.w[i] for i in model.d)**2+model.c*sum(model.zetaplus[i]+model.zetaminus[i] for i in model.s)\n",
    "model.obj=Objective(rule=obj_rule)\n",
    "\n",
    "solver=SolverFactory('ipopt')\n",
    "solver.solve(model)\n",
    "model.b.pprint()\n",
    "model.w.pprint()"
   ]
  },
  {
   "cell_type": "markdown",
   "metadata": {},
   "source": [
    "### Problem 5"
   ]
  },
  {
   "cell_type": "markdown",
   "metadata": {},
   "source": [
    "#### (a)"
   ]
  },
  {
   "cell_type": "code",
   "execution_count": 330,
   "metadata": {},
   "outputs": [
    {
     "name": "stdout",
     "output_type": "stream",
     "text": [
      "(768, 10)\n"
     ]
    },
    {
     "data": {
      "text/html": [
       "<div>\n",
       "<style scoped>\n",
       "    .dataframe tbody tr th:only-of-type {\n",
       "        vertical-align: middle;\n",
       "    }\n",
       "\n",
       "    .dataframe tbody tr th {\n",
       "        vertical-align: top;\n",
       "    }\n",
       "\n",
       "    .dataframe thead th {\n",
       "        text-align: right;\n",
       "    }\n",
       "</style>\n",
       "<table border=\"1\" class=\"dataframe\">\n",
       "  <thead>\n",
       "    <tr style=\"text-align: right;\">\n",
       "      <th></th>\n",
       "      <th>Relative_Compactness</th>\n",
       "      <th>Surface_Area</th>\n",
       "      <th>Wall_Area</th>\n",
       "      <th>Roof_Area</th>\n",
       "      <th>Height</th>\n",
       "      <th>Orientation</th>\n",
       "      <th>Glazing_Area</th>\n",
       "      <th>Glazing_A_Distribution</th>\n",
       "      <th>Heating_Load</th>\n",
       "      <th>Cooling_Load</th>\n",
       "    </tr>\n",
       "  </thead>\n",
       "  <tbody>\n",
       "    <tr>\n",
       "      <th>0</th>\n",
       "      <td>0.98</td>\n",
       "      <td>514.5</td>\n",
       "      <td>294.0</td>\n",
       "      <td>110.25</td>\n",
       "      <td>7.0</td>\n",
       "      <td>2</td>\n",
       "      <td>0.0</td>\n",
       "      <td>0</td>\n",
       "      <td>15.55</td>\n",
       "      <td>21.33</td>\n",
       "    </tr>\n",
       "    <tr>\n",
       "      <th>1</th>\n",
       "      <td>0.98</td>\n",
       "      <td>514.5</td>\n",
       "      <td>294.0</td>\n",
       "      <td>110.25</td>\n",
       "      <td>7.0</td>\n",
       "      <td>3</td>\n",
       "      <td>0.0</td>\n",
       "      <td>0</td>\n",
       "      <td>15.55</td>\n",
       "      <td>21.33</td>\n",
       "    </tr>\n",
       "    <tr>\n",
       "      <th>2</th>\n",
       "      <td>0.98</td>\n",
       "      <td>514.5</td>\n",
       "      <td>294.0</td>\n",
       "      <td>110.25</td>\n",
       "      <td>7.0</td>\n",
       "      <td>4</td>\n",
       "      <td>0.0</td>\n",
       "      <td>0</td>\n",
       "      <td>15.55</td>\n",
       "      <td>21.33</td>\n",
       "    </tr>\n",
       "    <tr>\n",
       "      <th>3</th>\n",
       "      <td>0.98</td>\n",
       "      <td>514.5</td>\n",
       "      <td>294.0</td>\n",
       "      <td>110.25</td>\n",
       "      <td>7.0</td>\n",
       "      <td>5</td>\n",
       "      <td>0.0</td>\n",
       "      <td>0</td>\n",
       "      <td>15.55</td>\n",
       "      <td>21.33</td>\n",
       "    </tr>\n",
       "    <tr>\n",
       "      <th>4</th>\n",
       "      <td>0.90</td>\n",
       "      <td>563.5</td>\n",
       "      <td>318.5</td>\n",
       "      <td>122.50</td>\n",
       "      <td>7.0</td>\n",
       "      <td>2</td>\n",
       "      <td>0.0</td>\n",
       "      <td>0</td>\n",
       "      <td>20.84</td>\n",
       "      <td>28.28</td>\n",
       "    </tr>\n",
       "    <tr>\n",
       "      <th>5</th>\n",
       "      <td>0.90</td>\n",
       "      <td>563.5</td>\n",
       "      <td>318.5</td>\n",
       "      <td>122.50</td>\n",
       "      <td>7.0</td>\n",
       "      <td>3</td>\n",
       "      <td>0.0</td>\n",
       "      <td>0</td>\n",
       "      <td>21.46</td>\n",
       "      <td>25.38</td>\n",
       "    </tr>\n",
       "    <tr>\n",
       "      <th>6</th>\n",
       "      <td>0.90</td>\n",
       "      <td>563.5</td>\n",
       "      <td>318.5</td>\n",
       "      <td>122.50</td>\n",
       "      <td>7.0</td>\n",
       "      <td>4</td>\n",
       "      <td>0.0</td>\n",
       "      <td>0</td>\n",
       "      <td>20.71</td>\n",
       "      <td>25.16</td>\n",
       "    </tr>\n",
       "    <tr>\n",
       "      <th>7</th>\n",
       "      <td>0.90</td>\n",
       "      <td>563.5</td>\n",
       "      <td>318.5</td>\n",
       "      <td>122.50</td>\n",
       "      <td>7.0</td>\n",
       "      <td>5</td>\n",
       "      <td>0.0</td>\n",
       "      <td>0</td>\n",
       "      <td>19.68</td>\n",
       "      <td>29.60</td>\n",
       "    </tr>\n",
       "    <tr>\n",
       "      <th>8</th>\n",
       "      <td>0.86</td>\n",
       "      <td>588.0</td>\n",
       "      <td>294.0</td>\n",
       "      <td>147.00</td>\n",
       "      <td>7.0</td>\n",
       "      <td>2</td>\n",
       "      <td>0.0</td>\n",
       "      <td>0</td>\n",
       "      <td>19.50</td>\n",
       "      <td>27.30</td>\n",
       "    </tr>\n",
       "    <tr>\n",
       "      <th>9</th>\n",
       "      <td>0.86</td>\n",
       "      <td>588.0</td>\n",
       "      <td>294.0</td>\n",
       "      <td>147.00</td>\n",
       "      <td>7.0</td>\n",
       "      <td>3</td>\n",
       "      <td>0.0</td>\n",
       "      <td>0</td>\n",
       "      <td>19.95</td>\n",
       "      <td>21.97</td>\n",
       "    </tr>\n",
       "  </tbody>\n",
       "</table>\n",
       "</div>"
      ],
      "text/plain": [
       "   Relative_Compactness  Surface_Area  Wall_Area  Roof_Area  Height  \\\n",
       "0                  0.98         514.5      294.0     110.25     7.0   \n",
       "1                  0.98         514.5      294.0     110.25     7.0   \n",
       "2                  0.98         514.5      294.0     110.25     7.0   \n",
       "3                  0.98         514.5      294.0     110.25     7.0   \n",
       "4                  0.90         563.5      318.5     122.50     7.0   \n",
       "5                  0.90         563.5      318.5     122.50     7.0   \n",
       "6                  0.90         563.5      318.5     122.50     7.0   \n",
       "7                  0.90         563.5      318.5     122.50     7.0   \n",
       "8                  0.86         588.0      294.0     147.00     7.0   \n",
       "9                  0.86         588.0      294.0     147.00     7.0   \n",
       "\n",
       "   Orientation  Glazing_Area  Glazing_A_Distribution  Heating_Load  \\\n",
       "0            2           0.0                       0         15.55   \n",
       "1            3           0.0                       0         15.55   \n",
       "2            4           0.0                       0         15.55   \n",
       "3            5           0.0                       0         15.55   \n",
       "4            2           0.0                       0         20.84   \n",
       "5            3           0.0                       0         21.46   \n",
       "6            4           0.0                       0         20.71   \n",
       "7            5           0.0                       0         19.68   \n",
       "8            2           0.0                       0         19.50   \n",
       "9            3           0.0                       0         19.95   \n",
       "\n",
       "   Cooling_Load  \n",
       "0         21.33  \n",
       "1         21.33  \n",
       "2         21.33  \n",
       "3         21.33  \n",
       "4         28.28  \n",
       "5         25.38  \n",
       "6         25.16  \n",
       "7         29.60  \n",
       "8         27.30  \n",
       "9         21.97  "
      ]
     },
     "execution_count": 330,
     "metadata": {},
     "output_type": "execute_result"
    }
   ],
   "source": [
    "df = pd.read_excel('data/ENB2012_data.xlsx')\n",
    "print(df.shape)\n",
    "df.head(10)"
   ]
  },
  {
   "cell_type": "code",
   "execution_count": 347,
   "metadata": {},
   "outputs": [],
   "source": [
    "# Features Separation\n",
    "df_feature = df.iloc[:,1:10]"
   ]
  },
  {
   "cell_type": "code",
   "execution_count": 348,
   "metadata": {},
   "outputs": [
    {
     "data": {
      "text/html": [
       "<div>\n",
       "<style scoped>\n",
       "    .dataframe tbody tr th:only-of-type {\n",
       "        vertical-align: middle;\n",
       "    }\n",
       "\n",
       "    .dataframe tbody tr th {\n",
       "        vertical-align: top;\n",
       "    }\n",
       "\n",
       "    .dataframe thead th {\n",
       "        text-align: right;\n",
       "    }\n",
       "</style>\n",
       "<table border=\"1\" class=\"dataframe\">\n",
       "  <thead>\n",
       "    <tr style=\"text-align: right;\">\n",
       "      <th></th>\n",
       "      <th>Surface_Area</th>\n",
       "      <th>Wall_Area</th>\n",
       "      <th>Roof_Area</th>\n",
       "      <th>Height</th>\n",
       "      <th>Orientation</th>\n",
       "      <th>Glazing_Area</th>\n",
       "      <th>Glazing_A_Distribution</th>\n",
       "      <th>Heating_Load</th>\n",
       "      <th>Cooling_Load</th>\n",
       "    </tr>\n",
       "  </thead>\n",
       "  <tbody>\n",
       "    <tr>\n",
       "      <th>0</th>\n",
       "      <td>514.5</td>\n",
       "      <td>294.0</td>\n",
       "      <td>110.25</td>\n",
       "      <td>7.0</td>\n",
       "      <td>2</td>\n",
       "      <td>0.0</td>\n",
       "      <td>0</td>\n",
       "      <td>15.55</td>\n",
       "      <td>21.33</td>\n",
       "    </tr>\n",
       "    <tr>\n",
       "      <th>1</th>\n",
       "      <td>514.5</td>\n",
       "      <td>294.0</td>\n",
       "      <td>110.25</td>\n",
       "      <td>7.0</td>\n",
       "      <td>3</td>\n",
       "      <td>0.0</td>\n",
       "      <td>0</td>\n",
       "      <td>15.55</td>\n",
       "      <td>21.33</td>\n",
       "    </tr>\n",
       "    <tr>\n",
       "      <th>2</th>\n",
       "      <td>514.5</td>\n",
       "      <td>294.0</td>\n",
       "      <td>110.25</td>\n",
       "      <td>7.0</td>\n",
       "      <td>4</td>\n",
       "      <td>0.0</td>\n",
       "      <td>0</td>\n",
       "      <td>15.55</td>\n",
       "      <td>21.33</td>\n",
       "    </tr>\n",
       "    <tr>\n",
       "      <th>3</th>\n",
       "      <td>514.5</td>\n",
       "      <td>294.0</td>\n",
       "      <td>110.25</td>\n",
       "      <td>7.0</td>\n",
       "      <td>5</td>\n",
       "      <td>0.0</td>\n",
       "      <td>0</td>\n",
       "      <td>15.55</td>\n",
       "      <td>21.33</td>\n",
       "    </tr>\n",
       "    <tr>\n",
       "      <th>4</th>\n",
       "      <td>563.5</td>\n",
       "      <td>318.5</td>\n",
       "      <td>122.50</td>\n",
       "      <td>7.0</td>\n",
       "      <td>2</td>\n",
       "      <td>0.0</td>\n",
       "      <td>0</td>\n",
       "      <td>20.84</td>\n",
       "      <td>28.28</td>\n",
       "    </tr>\n",
       "    <tr>\n",
       "      <th>5</th>\n",
       "      <td>563.5</td>\n",
       "      <td>318.5</td>\n",
       "      <td>122.50</td>\n",
       "      <td>7.0</td>\n",
       "      <td>3</td>\n",
       "      <td>0.0</td>\n",
       "      <td>0</td>\n",
       "      <td>21.46</td>\n",
       "      <td>25.38</td>\n",
       "    </tr>\n",
       "    <tr>\n",
       "      <th>6</th>\n",
       "      <td>563.5</td>\n",
       "      <td>318.5</td>\n",
       "      <td>122.50</td>\n",
       "      <td>7.0</td>\n",
       "      <td>4</td>\n",
       "      <td>0.0</td>\n",
       "      <td>0</td>\n",
       "      <td>20.71</td>\n",
       "      <td>25.16</td>\n",
       "    </tr>\n",
       "    <tr>\n",
       "      <th>7</th>\n",
       "      <td>563.5</td>\n",
       "      <td>318.5</td>\n",
       "      <td>122.50</td>\n",
       "      <td>7.0</td>\n",
       "      <td>5</td>\n",
       "      <td>0.0</td>\n",
       "      <td>0</td>\n",
       "      <td>19.68</td>\n",
       "      <td>29.60</td>\n",
       "    </tr>\n",
       "    <tr>\n",
       "      <th>8</th>\n",
       "      <td>588.0</td>\n",
       "      <td>294.0</td>\n",
       "      <td>147.00</td>\n",
       "      <td>7.0</td>\n",
       "      <td>2</td>\n",
       "      <td>0.0</td>\n",
       "      <td>0</td>\n",
       "      <td>19.50</td>\n",
       "      <td>27.30</td>\n",
       "    </tr>\n",
       "    <tr>\n",
       "      <th>9</th>\n",
       "      <td>588.0</td>\n",
       "      <td>294.0</td>\n",
       "      <td>147.00</td>\n",
       "      <td>7.0</td>\n",
       "      <td>3</td>\n",
       "      <td>0.0</td>\n",
       "      <td>0</td>\n",
       "      <td>19.95</td>\n",
       "      <td>21.97</td>\n",
       "    </tr>\n",
       "  </tbody>\n",
       "</table>\n",
       "</div>"
      ],
      "text/plain": [
       "   Surface_Area  Wall_Area  Roof_Area  Height  Orientation  Glazing_Area  \\\n",
       "0         514.5      294.0     110.25     7.0            2           0.0   \n",
       "1         514.5      294.0     110.25     7.0            3           0.0   \n",
       "2         514.5      294.0     110.25     7.0            4           0.0   \n",
       "3         514.5      294.0     110.25     7.0            5           0.0   \n",
       "4         563.5      318.5     122.50     7.0            2           0.0   \n",
       "5         563.5      318.5     122.50     7.0            3           0.0   \n",
       "6         563.5      318.5     122.50     7.0            4           0.0   \n",
       "7         563.5      318.5     122.50     7.0            5           0.0   \n",
       "8         588.0      294.0     147.00     7.0            2           0.0   \n",
       "9         588.0      294.0     147.00     7.0            3           0.0   \n",
       "\n",
       "   Glazing_A_Distribution  Heating_Load  Cooling_Load  \n",
       "0                       0         15.55         21.33  \n",
       "1                       0         15.55         21.33  \n",
       "2                       0         15.55         21.33  \n",
       "3                       0         15.55         21.33  \n",
       "4                       0         20.84         28.28  \n",
       "5                       0         21.46         25.38  \n",
       "6                       0         20.71         25.16  \n",
       "7                       0         19.68         29.60  \n",
       "8                       0         19.50         27.30  \n",
       "9                       0         19.95         21.97  "
      ]
     },
     "execution_count": 348,
     "metadata": {},
     "output_type": "execute_result"
    }
   ],
   "source": [
    "df_feature.head(10)"
   ]
  },
  {
   "cell_type": "code",
   "execution_count": 349,
   "metadata": {},
   "outputs": [
    {
     "data": {
      "text/html": [
       "<div>\n",
       "<style scoped>\n",
       "    .dataframe tbody tr th:only-of-type {\n",
       "        vertical-align: middle;\n",
       "    }\n",
       "\n",
       "    .dataframe tbody tr th {\n",
       "        vertical-align: top;\n",
       "    }\n",
       "\n",
       "    .dataframe thead th {\n",
       "        text-align: right;\n",
       "    }\n",
       "</style>\n",
       "<table border=\"1\" class=\"dataframe\">\n",
       "  <thead>\n",
       "    <tr style=\"text-align: right;\">\n",
       "      <th></th>\n",
       "      <th>var</th>\n",
       "      <th>PC</th>\n",
       "    </tr>\n",
       "  </thead>\n",
       "  <tbody>\n",
       "    <tr>\n",
       "      <th>0</th>\n",
       "      <td>0.503558</td>\n",
       "      <td>PC1</td>\n",
       "    </tr>\n",
       "    <tr>\n",
       "      <th>1</th>\n",
       "      <td>0.144997</td>\n",
       "      <td>PC2</td>\n",
       "    </tr>\n",
       "    <tr>\n",
       "      <th>2</th>\n",
       "      <td>0.130061</td>\n",
       "      <td>PC3</td>\n",
       "    </tr>\n",
       "    <tr>\n",
       "      <th>3</th>\n",
       "      <td>0.111131</td>\n",
       "      <td>PC4</td>\n",
       "    </tr>\n",
       "    <tr>\n",
       "      <th>4</th>\n",
       "      <td>0.089414</td>\n",
       "      <td>PC5</td>\n",
       "    </tr>\n",
       "  </tbody>\n",
       "</table>\n",
       "</div>"
      ],
      "text/plain": [
       "        var   PC\n",
       "0  0.503558  PC1\n",
       "1  0.144997  PC2\n",
       "2  0.130061  PC3\n",
       "3  0.111131  PC4\n",
       "4  0.089414  PC5"
      ]
     },
     "execution_count": 349,
     "metadata": {},
     "output_type": "execute_result"
    }
   ],
   "source": [
    "from sklearn.preprocessing import StandardScaler\n",
    "\n",
    "\n",
    "# Data Processing\n",
    "scaler = StandardScaler()\n",
    "scaler.fit(df_feature)\n",
    "feature_scaled = scaler.transform(df_feature)\n",
    "\n",
    "from sklearn.decomposition import PCA\n",
    "\n",
    "pca = PCA(n_components = 5)  # started with half of the feature\n",
    "pc = pca.fit_transform(feature_scaled)\n",
    "\n",
    "pc_df = pd.DataFrame(data = pc, columns = ['PC1', 'PC2', 'PC3', 'PC4','PC5'])\n",
    "\n",
    "# Variance Calculation\n",
    "var = pca.explained_variance_ratio_ \n",
    "pc_var_df = pd.DataFrame({'var' : var, 'PC': ['PC1', 'PC2', 'PC3', 'PC4','PC5']})\n",
    "pc_var_df"
   ]
  },
  {
   "cell_type": "code",
   "execution_count": 350,
   "metadata": {
    "scrolled": false
   },
   "outputs": [
    {
     "data": {
      "image/png": "[encoded data removed]",
      "text/plain": [
       "<Figure size 432x288 with 1 Axes>"
      ]
     },
     "metadata": {
      "needs_background": "light"
     },
     "output_type": "display_data"
    }
   ],
   "source": [
    "import seaborn as sns\n",
    "sns.barplot(x = 'PC', y = 'var', data = pc_var_df, color = 'c');"
   ]
  },
  {
   "cell_type": "markdown",
   "metadata": {},
   "source": [
    "PC1 is contributing to 50.3% of the data. The first three PCs contrinuts 85% of the data. "
   ]
  },
  {
   "cell_type": "markdown",
   "metadata": {},
   "source": [
    "##### (b)"
   ]
  },
  {
   "cell_type": "code",
   "execution_count": 344,
   "metadata": {},
   "outputs": [
    {
     "name": "stdout",
     "output_type": "stream",
     "text": [
      "Loadings: \n",
      " [[-3.84923241e-01  1.65013956e-01 -4.55048232e-01  4.58765218e-01\n",
      "   1.48672672e-03  6.19321421e-02  2.12548716e-02  4.48805287e-01\n",
      "   4.48725216e-01]\n",
      " [-3.58722808e-01 -4.36335137e-01 -1.39073042e-01  1.29231985e-01\n",
      "  -4.45233357e-03 -5.94595030e-01 -4.89921478e-01 -1.86341678e-01\n",
      "  -1.28755699e-01]\n",
      " [ 3.54622229e-01  7.12179087e-01  1.85346566e-03  1.28347648e-03\n",
      "   4.76349562e-03 -3.97273375e-01 -4.49464774e-01  5.25926439e-02\n",
      "   6.63742937e-02]\n",
      " [ 1.12522245e-03  8.45737910e-03 -2.98730809e-03  2.71447287e-03\n",
      "  -9.99868147e-01  2.13850419e-05  2.76637762e-03  6.43352367e-03\n",
      "  -1.12053620e-02]\n",
      " [-8.90805988e-03  1.32039251e-01 -7.24559572e-02  6.47055307e-02\n",
      "   3.78929072e-03 -6.36951682e-01  7.46322438e-01 -7.74610796e-02\n",
      "  -6.58058349e-02]]\n"
     ]
    },
    {
     "data": {
      "image/png": "[encoded data removed]",
      "text/plain": [
       "<Figure size 600x400 with 1 Axes>"
      ]
     },
     "metadata": {
      "needs_background": "light"
     },
     "output_type": "display_data"
    }
   ],
   "source": [
    "loadings = pca.components_\n",
    "print('Loadings: \\n', loadings)\n",
    "\n",
    "def myplot(score,coeff,labels=None):\n",
    "    xs = score[:,0]\n",
    "    ys = score[:,1]\n",
    "    n = coeff.shape[0]\n",
    "    sclaex = 1.0/(xs.max() - xs.min())\n",
    "    scaley = 1.0/(ys.max() - ys.min())\n",
    "    \n",
    "    plt.figure(figsize=(6,4), dpi=100)\n",
    "    for i in range(n):\n",
    "        plt.arrow(0,0,coeff[i,0], coeff[i,1],color = 'r',alpha=0.5)\n",
    "        if labels is None:\n",
    "            plt.text(coeff[i,0]*1.15, coeff[i,1] * 1.15,'Var'+str(i+1),color = 'g', ha = 'center', va = 'center')\n",
    "        else:\n",
    "            plt.text(coeff[i,0]*1.15, coeff[i,1] * 1.15, labels[i],color = 'g', ha = 'center', va = 'center')\n",
    "    plt.xlim(-1,1)\n",
    "    plt.ylim(-1,1)\n",
    "    plt.xlabel('PC{}'.format(1), size=12)\n",
    "    plt.ylabel(\"PC{}\".format(2), size=12)\n",
    "    plt.grid()\n",
    "\n",
    "myplot(pc[:,0:2], np.transpose(pca.components_[0:2,:]));"
   ]
  },
  {
   "cell_type": "markdown",
   "metadata": {},
   "source": [
    "#### (c)"
   ]
  },
  {
   "cell_type": "markdown",
   "metadata": {},
   "source": [
    "PCA is helpful in terms of identifying that PC1 is contributing to 50.3% of the data. The first three PCs contrinuts 85% of the data. Loadings plotting gives the information that how varibales are correlated with each other. "
   ]
  },
  {
   "cell_type": "code",
   "execution_count": null,
   "metadata": {},
   "outputs": [],
   "source": []
  }
 ],
 "metadata": {
  "kernelspec": {
   "display_name": "Python 3",
   "language": "python",
   "name": "python3"
  },
  "language_info": {
   "codemirror_mode": {
    "name": "ipython",
    "version": 3
   },
   "file_extension": ".py",
   "mimetype": "text/x-python",
   "name": "python",
   "nbconvert_exporter": "python",
   "pygments_lexer": "ipython3",
   "version": "3.8.5"
  }
 },
 "nbformat": 4,
 "nbformat_minor": 4
}
